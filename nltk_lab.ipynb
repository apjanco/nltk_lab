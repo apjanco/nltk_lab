{
 "cells": [
  {
   "cell_type": "markdown",
   "metadata": {},
   "source": [
    ">If this is your first time working with a Jupyter Notebook, here are some basic instructions. <br>\n",
    ">1) The notebook is made of explanatory segments of text followed by snipets of code. It's kind of like an essay  \n",
    ">(with a computer inside it). <br>\n",
    ">2) You're meant to read down the document and run the code cells in progression. To run one of the cells, click on it (it will be highlighted blue), then click on the 'run cell' button in the toolbar or Cell > Run Cells in the dropdown menu. <br>\n",
    "3) If you run into errors, start back at the beginning (or start debugging and share the corrections with the author).\n",
    ">That's all there is to it.<br>"
   ]
  },
  {
   "cell_type": "markdown",
   "metadata": {},
   "source": [
    "# Natural Language Toolkit"
   ]
  },
  {
   "cell_type": "markdown",
   "metadata": {},
   "source": [
    "This is a short exploration of the [Natural Language Toolkit (NLTK)](https://www.nltk.org/), which an open source Python library and \"leading platform for building Python programs to work with human language data.\"  NLTK offers a staggering range of tools as well as corpora and models in multiple languages. [This module index](https://www.nltk.org/py-modindex.html) is a good place to browse everything that NLTK can do.\n",
    "<br>\n",
    "Given the impossibility of offering a general summary of so many things, my approach is relatively unscientific.  To use a highway metaphore, rather that systematically outlining the U.S. interstate highway system, I just set off on a road to see where it would take me.\n",
    "\n"
   ]
  },
  {
   "cell_type": "markdown",
   "metadata": {},
   "source": [
    "To begin with, let's get some text.  I have chosen Indira Ghandi's [speech at the Stockholm Conference on the Human Enviornment in 1971](http://lasulawsenvironmental.blogspot.com/2012/07/indira-gandhis-speech-at-stockholm.html)."
   ]
  },
  {
   "cell_type": "code",
   "execution_count": 114,
   "metadata": {
    "collapsed": true
   },
   "outputs": [],
   "source": [
    "text = '''Man And Environment \n",
    " \n",
    "Smt. Indira Gandhi \n",
    "(late Prime Minister of India) \n",
    "Plenary Session of United Nations Conference on Human Environment \n",
    "Stockholm 14th June, 1972 \n",
    "\n",
    "It is indeed an honour to address this Conference-in itself a fresh expression of the spirit which created the United Nations-concern for the present and future welfare of humanity. It does not aim merely at securing limited agreements but at establishing peace and harmony in life-among all races and with Nature. This gathering represents man's earnest endeavour to understand his own condition and to prolong his tenancy of this planet. A vast amount of detailed preparatory work has gone into the convening of this Conference guided by the dynamic personality of Mr. Maurice Strong the Secretary General.\n",
    "\n",
    "I have had the good fortune of growing up with a sense of kinship with nature in all its manifestations. Birds, plants, stones were companions and, sleeping under the star-strewn sky, I became familiar with the names and movements of the constellations. But my deep interest in this our `only earth' was not for itself but as a fit home for man.\n",
    "\n",
    "One cannot be truly human and civilized unless one looks upon not only all fellow-men but all creation with the eyes of a friend. Throughout India, edicts carved on rocks and iron pillars are reminders that 22 centuries ago the Emperor Ashoka defined a King's duty as not merely to protect citizens and punish wrongdoers but also to preserve animal life and forest trees. Ashoka was the first and perhaps the only monarch until very recently, to forbid the killing of a large number of species of animals for sport or food, foreshadowing some of the concerns of this Conference. He went further, regretting the carnage of his military conquests and enjoining upon his successors to find \"their only pleasure in the peace that comes through righteousness\".\n",
    "\n",
    "Along with the rest of mankind, we in India--in spite of Ashoka have been guilty of wanton disregard for the sources of our sustenance. We share you concern at the rapid deterioration of flora and fauna. Some of our own wildlife has been wiped out, miles of forests with beautiful old trees, mute witnesses of history, have been destroyed. Even though our industrial development is in its infancy, and at its most difficult stage, we are taking various steps to deal with incipient environmental imbalances. The more so because of our concern for the human being--a species which is also imperiled. In poverty he is threatened by malnutrition and disease, in weakness by war, in richness by the pollution brought about by his own prosperity.\n",
    "\n",
    "It is said that in country after country, progress should become synonymous with an assault on nature. We who are a part of nature and dependent on her for very need, speak constantly about \"exploiting\" nature. When the highest mountain in the world was climber in 1953, Jawaharlal Nehru objected to the phrase \"conquest of Everest\" which he thought was arrogant. It is surprising that this lack of consideration and the constant need to prove one's superiority should be projected onto our treatment of our fellowmen? I remember Edward Thompson, a British writer and a good friend of India, once telling Mr. Gandhi that wildlife was fast disappearing. Remarked the Mahatma--\"It is decreasing in the jungles but it is increasing in the town\".\n",
    "\n",
    "We are gathered here under the aegis of the United Nations. We are supposed to belong to the same family sharing common traits and impelled by the same basic desires, yet we inhabit a divided world.\n",
    "\n",
    "How can it be otherwise? There is still no recognition of the equality of man or respect for him as an individual. In matters of colour and race, religion and custom, society is governed by prejudice. Tensions arise because of man's aggressiveness and notions of superiority. The power of the big stick prevails and it is used not in favour of fair play or beauty, but to chase imaginary windmills--to assume the right to interfere in the affairs of others, and to arrogate authority for action which would not normally be allowed. Many of the advanced countries of today have reached their present affluence by their domination over other races and countries, the exploitation of their own natural resources. They got a head start through sheer ruthlessness, undisturbed by feelings of compassion or by abstract theories of freedom, equality or justice. The stirrings of demands for the political rights of citizens, and the economic rights of the toiler came after considerable advance had been made. The riches and the labour of the colonized countries played no small part in the industrialization and prosperity of the West. Now, as we struggle to create a better life for our people, it is in vastly different circumstances, for obviously in today's eagle-eyed watchfulness we cannot indulge in such practices even for a worthwhile purpose. We are bound by our own ideals. We owe allegiance to the principles of the rights of workers and the norms enshrined in the charters of international organizations. Above all we are answerable to the millions of politically awakened citizens in our countries. All these make progress costlier and more complicated.\n",
    "\n",
    "On the one hand the rich look askance at our continuing poverty--on the other, they warn us against their own methods. We do not wish to impoverish the environment any further and yet we cannot for a moment forget the grim poverty of large numbers of people. Are not poverty and need the greatest polluters? For instance, unless we are in a position to provide employment and purchasing power for the daily necessities of the tribal people and those who live in or around our jungles, we cannot prevent them from combing the forest for food and livelihood; from poaching and from despoiling the vegetation. When they themselves feel deprived, how can we urge the preservation of animals? How can we speak to those who live in villages and in slums about keeping the oceans, the rivers and the air clean when their own lives are contaminated at the source? The environment cannot be improved in conditions of poverty. Nor can poverty be eradicated without the use of science and technology.\n",
    "\n",
    "Must there be conflict between technology and a truly better world or between enlightenment of the spirit and a higher standard of living? Foreigners sometimes ask what to us seems a very strange question, whether progress in India would not mean diminishing of her spirituality or her values. Is spiritual quality so superficial as to be dependent upon the lack of material comfort? As a country we are not more or less spiritual than any other but traditionally our people have respected the spirit of detachment and renunciation. Historically, our great spiritual discoveries were made during periods of comparative affluence. The doctrines of detachment from possessions were developed not as rationalization of deprivation but to prevent comfort and ease from dulling the senses. Spirituality means the enrichment of the spirit, the strengthening of ones inner resources and the stretching of one's range of experience. It is the ability to be still in the midst of activity and vibrantly alive in moments of calm; to separate the essence from circumstances; to accept joy and sorrow with some equanimity. Perception and compassion are the marks of true spirituality.\n",
    "\n",
    "I am reminded of an incident in one of our tribal areas. The vociferous demand of elder tribal chiefs that their customs should be left undisturbed found support from noted anthropologists. In its anxiety that the majority should not submerge the many ethnic, racial and cultural groups in our country, the Government of India largely accepted this advice. I was amongst those who entirely approved. However, a visit to remote part of our north-east frontier brought me in touch with a different point of view-the protest of the younger elements that while the rest of India was on the way to modernization they were being preserved as museum pieces. Could we not say the same to the affluent nations?\n",
    "\n",
    "For the last quarter of a century, we have been engaged in an enterprise unparalled in human history--the provision of basic needs to one-sixth of mankind within the span of one or two generations. When we launched on that effort our early planners had more than the usual gaps to fill. There was not enough data and no helpful books. No guidance could be sought from the experience of other countries whose conditions--political, economic, social and technological--were altogether different. Planning in the sense we were innovating, had never been used in the context of a mixed economy. But we could not wait. The need to improve the conditions of our people was pressing. Planning and action, the improvement of data leading to better planning and better action, all this was a continuous and overlapping process. Our industrialization tended to follow the paths which the more advanced countries had traversed earlier. With the advance of the 60's and particularly during the last five years, we have encountered a bewildering collection of problems, some due to our shortcomings but many inherent in the process and in existing attitudes. The feeling is growing that we should re-order our priorities and move away from the single-dimensional model which has viewed growth from certain limited angles, which seems to have given a higher place to things rather than to persons and which has increased our wants rather than our enjoyment. We should have a more comprehensive approach to life, centred on man not as a statistic but an individual with many sides to his personality. The solution of these problems cannot be isolated phenomena of marginal importance but must be an integral part of the unfolding of the very process of development.\n",
    "\n",
    "The extreme forms in which questions of population or environmental pollution are posed, obscure the total view of political, economic and social situations. The Government of India is one of the few which has an officially sponsored programme of family planning and this is making some progress. We believe that planned families will make for a healthier and more conscious population. But we know also that no programme of population control can be effective without education and without a visible rise in the standard of living. Our own programmes have succeeded in the urban or semi-urban areas. To the very poor, every child is an earner and a helper. We ar experimenting with new approaches and the family planning programme is being combined with those of maternity and child welfare, nutrition and development in general.\n",
    "\n",
    "It is an over--simplification to blame all the world's problems on increasing population. Countries with but a small fraction of the world population consume the bulk of the world's production of minerals, fossil fuels and so on. Thus we see that when it comes to the depletion of natural resources and environmental pollution, the increase of one inhabitant in an affluent country., at his level of living, is equivalent to an increase of many Asian, Africans or Latin Americans at their current material levels of living.\n",
    "\n",
    "The inherent conflict is not between conservation and development, but between environment and reckless exploitation of man and earth in the name of efficiency. Historians tell us that the modern age began with the will to freedom of the individual. And the individual came to believe that the had rights with no corresponding obligations. The man who got ahead was the one who commanded admiration. No questions were asked as to the methods employed or the price which others had to pay. The industrial civilization has promoted the concept of the efficient man, he whose entire energies are concentrated on producing more in a given unit of time and from a given unit of manpower. Groups or individuals who ar less competitive and according to this test, less efficient are regarded as lesser breeds--for example the older civilizations, the black and brown peoples, women and certain professions. Obsolescence is built into production, and efficiency is based on the creation of goods which are not really needed and which cannot be disposed of when discarded. What price such efficiency now, and is not recklessness a more appropriate term for such a behaviour?\n",
    "\n",
    "All the `isms' of the modern age--even those which in theory disown the private profit principle--assume that man's cardinal interest is acquisition. The profit motive, individual or collectives, seems to overshadow all else. This overriding concern with self and Today is the basic cause of the ecological crisis.\n",
    "\n",
    "Pollution is not a technical problem. The fault lies not in science and technology as such but in the sense of values of the contemporary world which ignores the rights of others and is oblivious of the longer perspective.\n",
    "\n",
    "There are grave misgivings that the discussion on ecology may be designed to distract attention from the problems of war and poverty. We have to prove to the disinherited majority of the world that ecology and conservation will not work against their interest but will bring an improvement in their lives. To withhold technology from them would deprive them of vast resources of energy and knowledge. This is no longer feasible not will it be acceptable.\n",
    "\n",
    "The environmental problems of developing countries are not the side effects of excessive industrialization but reflect the inadequacy of development. The rich countries may look upon development as the cause of environmental destruction, but to us it is one of the primary means of improving the environment for living, or providing food, water, sanitation and shelter; of making the deserts green and the mountains habitable. The research and perseverance of dedicated people have given us an insight which is likely to play an important part in the shaping of our future plans. We see that however much man hankers after material goods, they can never give him full satisfaction. Thus the higher standard of living must be achieved without alienating people from their heritage and without despoiling nature of its beauty, freshness and purity so essential to our lives.\n",
    "\n",
    "The most urgent and basic question is that of peace. Nothing is so pointless as modern warfare. Nothing destroys so instantly, so completely as the diabolic weapons which not only kill but maim and deform the living and the yet to be born; which poison the land, leaving long trails of ugliness, barrenness and hopeless desolation. What ecological projects can survive a war? The Prime Minister of Sweden, Mr. Olof Palme, has already drawn the attention of the Conference to this in powerful words.\n",
    "\n",
    "It is clear that the environmental crisis which is confronting the world, will profoundly alter the future destiny or our planet. No one among us, whatever our status, strength or circumstance can remain unaffected. The process of change challenges present international policies. Will the growing awareness of \"one earth\" and \"one environment' guide us to the concept of \"one humanity\"? Will there be a more equitable sharing of environmental costs and greater international interest in the accelerated progress of the less developed world? Or, will it remain confined to a narrow concern, based on exclusive self-sufficiency?\n",
    "\n",
    "The first essays in narrowing economic and technological disparities have not succeeded because the policies of aid were made to subserve the equations of power. We hope that the renewed emphasis on self-reliance, brought a about by the change in the climate for aid, will also promote search for new criteria of human satisfaction. In the meantime, the ecological crises should not add to the burdens of the weaker nations by introducing new considerations in the political and trade policies of rich nations. It would be ironic if the fight against pollution were to be converted into another business, out of which a few companies, corporations, or nations would make profits at the cost of the many. Here is a branch of experimentation and discovery in which scientist of all nations should take interest. They should ensure that their findings are available to all nations, unrestricted by patents. I am glad that the Conference has given thought on this aspect of the problem.\n",
    "\n",
    "Life is one and the world is one, and all these questions are inter-linked. The population explosion; poverty; ignorance and disease, the pollution of our surroundings, the stockpiling of nuclear weapons and biological and chemical agents of destruction are all parts of a vicious circle. Each is important and urgent but dealing with them one by one would be wasted effort.\n",
    "It serves little purpose to dwell on the past or to apportion blame, no one of us is blameless. If some are able to dominate over others, it is at least partially due to the weakness, the lack of unity and the temptation of gaining some advantage on the part of those who submit. If the prosperous have been exploiting the needy, can we honestly claim that in our own societies people do not take advantage of the weaker sections? We must re-evaluate the fundamentals on which our respective civic societies are based and the ideals by which they are sustained. If there is to be a change of heart, a change of direction and methods of functioning, it is not an organization or a country-no matter how well intentioned--which can achieve it. While each country must deal with that aspect of the problem which is most relevant to it, it is obvious that all countries must unite in an overall endeavour. There is no alternative to a cooperative approach on a global scale to the entire spectrum of our problems.\n",
    "\n",
    "I have referred to some problems which seem to me to be the underlying causes of the present crises in our civilization. This is not in the expectation that this Conference can achieve miracles or solve all the world's difficulties, but in the hope that the opinions of each national will be kept in focus, that these problems will be viewed in perspective and each project devised as part of the whole.\n",
    "\n",
    "On a previous occasion I have spoken of the unfinished revolution in our countries I am now convinced that this can be taken to its culmination when it is accompanied by a revolution in social thinking. In 1968 at the 14th General Conference of UNESCO the Indian delegation, along with others, proposed a new and major programme entitled \"a design for living\". This is essential to grasp the full implications of technical advance and its impact on different sections and groups. We do not want to put the clock back or resign ourselves to a simplistic natural state. We want new directions in the wiser use of the knowledge and tools with which science has equipped us. And this cannot be just one upsurge but a continuous search into cause and effect and an unending effort to match technology with higher levels of thinking. We must concern ourselves not only with the kind of world we want but also with what kind of man should inhabit it. Surely we do not desire a society divided into those who condition and those who are conditioned. We want thinking people capable of spontaneous self-directed activity, people who are interested and interesting, and who are imbued with compassion and concern for others.\n",
    "\n",
    "It will not be easy for large societies to change their style of living. They cannot be coerced to do so, nor can governmental action suffice. People can be motivated and urged to participate in better alternatives.\n",
    "\n",
    "It has been my experience that people who are at cross purposes with nature are cynical about mankind and ill-at-ease with themselves. Modern man must re-establish an unbroken link with nature and with life. He must again learn to invoke the energy of growing things and to recognize, as did the ancients in India centuries ago, that one can take from the Earth and the atmosphere only so much as one puts back into them. In their hymn to Earth, the sages of the Atharva Veda chanted-I quote,\n",
    "\"What of thee I dig out, let that quickly grow over, Let me\n",
    "not hit thy vitals, or thy heart\".\n",
    "So can man himself be vital and of good heart and\n",
    "conscious of his responsibility'''"
   ]
  },
  {
   "cell_type": "markdown",
   "metadata": {},
   "source": [
    "Following on last week's discussion, I wanted to start with the creation of tokens.  Below you'll find four lines of code that will remove all the punctuation from the text [using a regular expression](https://www.digitalocean.com/community/tutorials/an-introduction-to-regular-expressions) and give us a list of all the words in the text. A \"list\" is a common way of working with data in Python. Each word is a string of charachters beginning and ending with a quotation mark (hence 'Indira' 'Ghandi').  The list begins and ends with square brackets: [ and ].  Each value in the list is separated by a comma.     "
   ]
  },
  {
   "cell_type": "code",
   "execution_count": 115,
   "metadata": {
    "collapsed": false
   },
   "outputs": [
    {
     "name": "stdout",
     "output_type": "stream",
     "text": [
      "['Man', 'And', 'Environment', 'Smt', 'Indira', 'Gandhi', 'late', 'Prime', 'Minister', 'of', 'India', 'Plenary', 'Session', 'of', 'United', 'Nations', 'Conference', 'on', 'Human', 'Environment', 'Stockholm', '14th', 'June', '1972', 'It', 'is', 'indeed', 'an', 'honour', 'to', 'address', 'this', 'Conference', 'in', 'itself', 'a', 'fresh', 'expression', 'of', 'the', 'spirit', 'which', 'created', 'the', 'United', 'Nations', 'concern', 'for', 'the', 'present', 'and', 'future', 'welfare', 'of', 'humanity', 'It', 'does', 'not', 'aim', 'merely', 'at', 'securing', 'limited', 'agreements', 'but', 'at', 'establishing', 'peace', 'and', 'harmony', 'in', 'life', 'among', 'all', 'races', 'and', 'with', 'Nature', 'This', 'gathering', 'represents', 'man', 's', 'earnest', 'endeavour', 'to', 'understand', 'his', 'own', 'condition', 'and', 'to', 'prolong', 'his', 'tenancy', 'of', 'this', 'planet', 'A', 'vast', 'amount', 'of', 'detailed', 'preparatory', 'work', 'has', 'gone', 'into', 'the', 'convening', 'of', 'this', 'Conference', 'guided', 'by', 'the', 'dynamic', 'personality', 'of', 'Mr', 'Maurice', 'Strong', 'the', 'Secretary', 'General', 'I', 'have', 'had', 'the', 'good', 'fortune', 'of', 'growing', 'up', 'with', 'a', 'sense', 'of', 'kinship', 'with', 'nature', 'in', 'all', 'its', 'manifestations', 'Birds', 'plants', 'stones', 'were', 'companions', 'and', 'sleeping', 'under', 'the', 'star', 'strewn', 'sky', 'I', 'became', 'familiar', 'with', 'the', 'names', 'and', 'movements', 'of', 'the', 'constellations', 'But', 'my', 'deep', 'interest', 'in', 'this', 'our', 'only', 'earth', 'was', 'not', 'for', 'itself', 'but', 'as', 'a', 'fit', 'home', 'for', 'man', 'One', 'cannot', 'be', 'truly', 'human', 'and', 'civilized', 'unless', 'one', 'looks', 'upon', 'not', 'only', 'all', 'fellow', 'men', 'but', 'all', 'creation', 'with', 'the', 'eyes', 'of', 'a', 'friend', 'Throughout', 'India', 'edicts', 'carved', 'on', 'rocks', 'and', 'iron', 'pillars', 'are', 'reminders', 'that', '22', 'centuries', 'ago', 'the', 'Emperor', 'Ashoka', 'defined', 'a', 'King', 's', 'duty', 'as', 'not', 'merely', 'to', 'protect', 'citizens', 'and', 'punish', 'wrongdoers', 'but', 'also', 'to', 'preserve', 'animal', 'life', 'and', 'forest', 'trees', 'Ashoka', 'was', 'the', 'first', 'and', 'perhaps', 'the', 'only', 'monarch', 'until', 'very', 'recently', 'to', 'forbid', 'the', 'killing', 'of', 'a', 'large', 'number', 'of', 'species', 'of', 'animals', 'for', 'sport', 'or', 'food', 'foreshadowing', 'some', 'of', 'the', 'concerns', 'of', 'this', 'Conference', 'He', 'went', 'further', 'regretting', 'the', 'carnage', 'of', 'his', 'military', 'conquests', 'and', 'enjoining', 'upon', 'his', 'successors', 'to', 'find', 'their', 'only', 'pleasure', 'in', 'the', 'peace', 'that', 'comes', 'through', 'righteousness', 'Along', 'with', 'the', 'rest', 'of', 'mankind', 'we', 'in', 'India', 'in', 'spite', 'of', 'Ashoka', 'have', 'been', 'guilty', 'of', 'wanton', 'disregard', 'for', 'the', 'sources', 'of', 'our', 'sustenance', 'We', 'share', 'you', 'concern', 'at', 'the', 'rapid', 'deterioration', 'of', 'flora', 'and', 'fauna', 'Some', 'of', 'our', 'own', 'wildlife', 'has', 'been', 'wiped', 'out', 'miles', 'of', 'forests', 'with', 'beautiful', 'old', 'trees', 'mute', 'witnesses', 'of', 'history', 'have', 'been', 'destroyed', 'Even', 'though', 'our', 'industrial', 'development', 'is', 'in', 'its', 'infancy', 'and', 'at', 'its', 'most', 'difficult', 'stage', 'we', 'are', 'taking', 'various', 'steps', 'to', 'deal', 'with', 'incipient', 'environmental', 'imbalances', 'The', 'more', 'so', 'because', 'of', 'our', 'concern', 'for', 'the', 'human', 'being', 'a', 'species', 'which', 'is', 'also', 'imperiled', 'In', 'poverty', 'he', 'is', 'threatened', 'by', 'malnutrition', 'and', 'disease', 'in', 'weakness', 'by', 'war', 'in', 'richness', 'by', 'the', 'pollution', 'brought', 'about', 'by', 'his', 'own', 'prosperity', 'It', 'is', 'said', 'that', 'in', 'country', 'after', 'country', 'progress', 'should', 'become', 'synonymous', 'with', 'an', 'assault', 'on', 'nature', 'We', 'who', 'are', 'a', 'part', 'of', 'nature', 'and', 'dependent', 'on', 'her', 'for', 'very', 'need', 'speak', 'constantly', 'about', 'exploiting', 'nature', 'When', 'the', 'highest', 'mountain', 'in', 'the', 'world', 'was', 'climber', 'in', '1953', 'Jawaharlal', 'Nehru', 'objected', 'to', 'the', 'phrase', 'conquest', 'of', 'Everest', 'which', 'he', 'thought', 'was', 'arrogant', 'It', 'is', 'surprising', 'that', 'this', 'lack', 'of', 'consideration', 'and', 'the', 'constant', 'need', 'to', 'prove', 'one', 's', 'superiority', 'should', 'be', 'projected', 'onto', 'our', 'treatment', 'of', 'our', 'fellowmen', 'I', 'remember', 'Edward', 'Thompson', 'a', 'British', 'writer', 'and', 'a', 'good', 'friend', 'of', 'India', 'once', 'telling', 'Mr', 'Gandhi', 'that', 'wildlife', 'was', 'fast', 'disappearing', 'Remarked', 'the', 'Mahatma', 'It', 'is', 'decreasing', 'in', 'the', 'jungles', 'but', 'it', 'is', 'increasing', 'in', 'the', 'town', 'We', 'are', 'gathered', 'here', 'under', 'the', 'aegis', 'of', 'the', 'United', 'Nations', 'We', 'are', 'supposed', 'to', 'belong', 'to', 'the', 'same', 'family', 'sharing', 'common', 'traits', 'and', 'impelled', 'by', 'the', 'same', 'basic', 'desires', 'yet', 'we', 'inhabit', 'a', 'divided', 'world', 'How', 'can', 'it', 'be', 'otherwise', 'There', 'is', 'still', 'no', 'recognition', 'of', 'the', 'equality', 'of', 'man', 'or', 'respect', 'for', 'him', 'as', 'an', 'individual', 'In', 'matters', 'of', 'colour', 'and', 'race', 'religion', 'and', 'custom', 'society', 'is', 'governed', 'by', 'prejudice', 'Tensions', 'arise', 'because', 'of', 'man', 's', 'aggressiveness', 'and', 'notions', 'of', 'superiority', 'The', 'power', 'of', 'the', 'big', 'stick', 'prevails', 'and', 'it', 'is', 'used', 'not', 'in', 'favour', 'of', 'fair', 'play', 'or', 'beauty', 'but', 'to', 'chase', 'imaginary', 'windmills', 'to', 'assume', 'the', 'right', 'to', 'interfere', 'in', 'the', 'affairs', 'of', 'others', 'and', 'to', 'arrogate', 'authority', 'for', 'action', 'which', 'would', 'not', 'normally', 'be', 'allowed', 'Many', 'of', 'the', 'advanced', 'countries', 'of', 'today', 'have', 'reached', 'their', 'present', 'affluence', 'by', 'their', 'domination', 'over', 'other', 'races', 'and', 'countries', 'the', 'exploitation', 'of', 'their', 'own', 'natural', 'resources', 'They', 'got', 'a', 'head', 'start', 'through', 'sheer', 'ruthlessness', 'undisturbed', 'by', 'feelings', 'of', 'compassion', 'or', 'by', 'abstract', 'theories', 'of', 'freedom', 'equality', 'or', 'justice', 'The', 'stirrings', 'of', 'demands', 'for', 'the', 'political', 'rights', 'of', 'citizens', 'and', 'the', 'economic', 'rights', 'of', 'the', 'toiler', 'came', 'after', 'considerable', 'advance', 'had', 'been', 'made', 'The', 'riches', 'and', 'the', 'labour', 'of', 'the', 'colonized', 'countries', 'played', 'no', 'small', 'part', 'in', 'the', 'industrialization', 'and', 'prosperity', 'of', 'the', 'West', 'Now', 'as', 'we', 'struggle', 'to', 'create', 'a', 'better', 'life', 'for', 'our', 'people', 'it', 'is', 'in', 'vastly', 'different', 'circumstances', 'for', 'obviously', 'in', 'today', 's', 'eagle', 'eyed', 'watchfulness', 'we', 'cannot', 'indulge', 'in', 'such', 'practices', 'even', 'for', 'a', 'worthwhile', 'purpose', 'We', 'are', 'bound', 'by', 'our', 'own', 'ideals', 'We', 'owe', 'allegiance', 'to', 'the', 'principles', 'of', 'the', 'rights', 'of', 'workers', 'and', 'the', 'norms', 'enshrined', 'in', 'the', 'charters', 'of', 'international', 'organizations', 'Above', 'all', 'we', 'are', 'answerable', 'to', 'the', 'millions', 'of', 'politically', 'awakened', 'citizens', 'in', 'our', 'countries', 'All', 'these', 'make', 'progress', 'costlier', 'and', 'more', 'complicated', 'On', 'the', 'one', 'hand', 'the', 'rich', 'look', 'askance', 'at', 'our', 'continuing', 'poverty', 'on', 'the', 'other', 'they', 'warn', 'us', 'against', 'their', 'own', 'methods', 'We', 'do', 'not', 'wish', 'to', 'impoverish', 'the', 'environment', 'any', 'further', 'and', 'yet', 'we', 'cannot', 'for', 'a', 'moment', 'forget', 'the', 'grim', 'poverty', 'of', 'large', 'numbers', 'of', 'people', 'Are', 'not', 'poverty', 'and', 'need', 'the', 'greatest', 'polluters', 'For', 'instance', 'unless', 'we', 'are', 'in', 'a', 'position', 'to', 'provide', 'employment', 'and', 'purchasing', 'power', 'for', 'the', 'daily', 'necessities', 'of', 'the', 'tribal', 'people', 'and', 'those', 'who', 'live', 'in', 'or', 'around', 'our', 'jungles', 'we', 'cannot', 'prevent', 'them', 'from', 'combing', 'the', 'forest', 'for', 'food', 'and', 'livelihood', 'from', 'poaching', 'and', 'from', 'despoiling', 'the', 'vegetation', 'When', 'they', 'themselves', 'feel', 'deprived', 'how', 'can', 'we', 'urge', 'the', 'preservation', 'of', 'animals', 'How', 'can', 'we', 'speak', 'to', 'those', 'who', 'live', 'in', 'villages', 'and', 'in', 'slums', 'about', 'keeping', 'the', 'oceans', 'the', 'rivers', 'and', 'the', 'air', 'clean', 'when', 'their', 'own', 'lives', 'are', 'contaminated', 'at', 'the', 'source', 'The', 'environment', 'cannot', 'be', 'improved', 'in', 'conditions', 'of', 'poverty', 'Nor', 'can', 'poverty', 'be', 'eradicated', 'without', 'the', 'use', 'of', 'science', 'and', 'technology', 'Must', 'there', 'be', 'conflict', 'between', 'technology', 'and', 'a', 'truly', 'better', 'world', 'or', 'between', 'enlightenment', 'of', 'the', 'spirit', 'and', 'a', 'higher', 'standard', 'of', 'living', 'Foreigners', 'sometimes', 'ask', 'what', 'to', 'us', 'seems', 'a', 'very', 'strange', 'question', 'whether', 'progress', 'in', 'India', 'would', 'not', 'mean', 'diminishing', 'of', 'her', 'spirituality', 'or', 'her', 'values', 'Is', 'spiritual', 'quality', 'so', 'superficial', 'as', 'to', 'be', 'dependent', 'upon', 'the', 'lack', 'of', 'material', 'comfort', 'As', 'a', 'country', 'we', 'are', 'not', 'more', 'or', 'less', 'spiritual', 'than', 'any', 'other', 'but', 'traditionally', 'our', 'people', 'have', 'respected', 'the', 'spirit', 'of', 'detachment', 'and', 'renunciation', 'Historically', 'our', 'great', 'spiritual', 'discoveries', 'were', 'made', 'during', 'periods', 'of', 'comparative', 'affluence', 'The', 'doctrines', 'of', 'detachment', 'from', 'possessions', 'were', 'developed', 'not', 'as', 'rationalization', 'of', 'deprivation', 'but', 'to', 'prevent', 'comfort', 'and', 'ease', 'from', 'dulling', 'the', 'senses', 'Spirituality', 'means', 'the', 'enrichment', 'of', 'the', 'spirit', 'the', 'strengthening', 'of', 'ones', 'inner', 'resources', 'and', 'the', 'stretching', 'of', 'one', 's', 'range', 'of', 'experience', 'It', 'is', 'the', 'ability', 'to', 'be', 'still', 'in', 'the', 'midst', 'of', 'activity', 'and', 'vibrantly', 'alive', 'in', 'moments', 'of', 'calm', 'to', 'separate', 'the', 'essence', 'from', 'circumstances', 'to', 'accept', 'joy', 'and', 'sorrow', 'with', 'some', 'equanimity', 'Perception', 'and', 'compassion', 'are', 'the', 'marks', 'of', 'true', 'spirituality', 'I', 'am', 'reminded', 'of', 'an', 'incident', 'in', 'one', 'of', 'our', 'tribal', 'areas', 'The', 'vociferous', 'demand', 'of', 'elder', 'tribal', 'chiefs', 'that', 'their', 'customs', 'should', 'be', 'left', 'undisturbed', 'found', 'support', 'from', 'noted', 'anthropologists', 'In', 'its', 'anxiety', 'that', 'the', 'majority', 'should', 'not', 'submerge', 'the', 'many', 'ethnic', 'racial', 'and', 'cultural', 'groups', 'in', 'our', 'country', 'the', 'Government', 'of', 'India', 'largely', 'accepted', 'this', 'advice', 'I', 'was', 'amongst', 'those', 'who', 'entirely', 'approved', 'However', 'a', 'visit', 'to', 'remote', 'part', 'of', 'our', 'north', 'east', 'frontier', 'brought', 'me', 'in', 'touch', 'with', 'a', 'different', 'point', 'of', 'view', 'the', 'protest', 'of', 'the', 'younger', 'elements', 'that', 'while', 'the', 'rest', 'of', 'India', 'was', 'on', 'the', 'way', 'to', 'modernization', 'they', 'were', 'being', 'preserved', 'as', 'museum', 'pieces', 'Could', 'we', 'not', 'say', 'the', 'same', 'to', 'the', 'affluent', 'nations', 'For', 'the', 'last', 'quarter', 'of', 'a', 'century', 'we', 'have', 'been', 'engaged', 'in', 'an', 'enterprise', 'unparalled', 'in', 'human', 'history', 'the', 'provision', 'of', 'basic', 'needs', 'to', 'one', 'sixth', 'of', 'mankind', 'within', 'the', 'span', 'of', 'one', 'or', 'two', 'generations', 'When', 'we', 'launched', 'on', 'that', 'effort', 'our', 'early', 'planners', 'had', 'more', 'than', 'the', 'usual', 'gaps', 'to', 'fill', 'There', 'was', 'not', 'enough', 'data', 'and', 'no', 'helpful', 'books', 'No', 'guidance', 'could', 'be', 'sought', 'from', 'the', 'experience', 'of', 'other', 'countries', 'whose', 'conditions', 'political', 'economic', 'social', 'and', 'technological', 'were', 'altogether', 'different', 'Planning', 'in', 'the', 'sense', 'we', 'were', 'innovating', 'had', 'never', 'been', 'used', 'in', 'the', 'context', 'of', 'a', 'mixed', 'economy', 'But', 'we', 'could', 'not', 'wait', 'The', 'need', 'to', 'improve', 'the', 'conditions', 'of', 'our', 'people', 'was', 'pressing', 'Planning', 'and', 'action', 'the', 'improvement', 'of', 'data', 'leading', 'to', 'better', 'planning', 'and', 'better', 'action', 'all', 'this', 'was', 'a', 'continuous', 'and', 'overlapping', 'process', 'Our', 'industrialization', 'tended', 'to', 'follow', 'the', 'paths', 'which', 'the', 'more', 'advanced', 'countries', 'had', 'traversed', 'earlier', 'With', 'the', 'advance', 'of', 'the', '60', 's', 'and', 'particularly', 'during', 'the', 'last', 'five', 'years', 'we', 'have', 'encountered', 'a', 'bewildering', 'collection', 'of', 'problems', 'some', 'due', 'to', 'our', 'shortcomings', 'but', 'many', 'inherent', 'in', 'the', 'process', 'and', 'in', 'existing', 'attitudes', 'The', 'feeling', 'is', 'growing', 'that', 'we', 'should', 're', 'order', 'our', 'priorities', 'and', 'move', 'away', 'from', 'the', 'single', 'dimensional', 'model', 'which', 'has', 'viewed', 'growth', 'from', 'certain', 'limited', 'angles', 'which', 'seems', 'to', 'have', 'given', 'a', 'higher', 'place', 'to', 'things', 'rather', 'than', 'to', 'persons', 'and', 'which', 'has', 'increased', 'our', 'wants', 'rather', 'than', 'our', 'enjoyment', 'We', 'should', 'have', 'a', 'more', 'comprehensive', 'approach', 'to', 'life', 'centred', 'on', 'man', 'not', 'as', 'a', 'statistic', 'but', 'an', 'individual', 'with', 'many', 'sides', 'to', 'his', 'personality', 'The', 'solution', 'of', 'these', 'problems', 'cannot', 'be', 'isolated', 'phenomena', 'of', 'marginal', 'importance', 'but', 'must', 'be', 'an', 'integral', 'part', 'of', 'the', 'unfolding', 'of', 'the', 'very', 'process', 'of', 'development', 'The', 'extreme', 'forms', 'in', 'which', 'questions', 'of', 'population', 'or', 'environmental', 'pollution', 'are', 'posed', 'obscure', 'the', 'total', 'view', 'of', 'political', 'economic', 'and', 'social', 'situations', 'The', 'Government', 'of', 'India', 'is', 'one', 'of', 'the', 'few', 'which', 'has', 'an', 'officially', 'sponsored', 'programme', 'of', 'family', 'planning', 'and', 'this', 'is', 'making', 'some', 'progress', 'We', 'believe', 'that', 'planned', 'families', 'will', 'make', 'for', 'a', 'healthier', 'and', 'more', 'conscious', 'population', 'But', 'we', 'know', 'also', 'that', 'no', 'programme', 'of', 'population', 'control', 'can', 'be', 'effective', 'without', 'education', 'and', 'without', 'a', 'visible', 'rise', 'in', 'the', 'standard', 'of', 'living', 'Our', 'own', 'programmes', 'have', 'succeeded', 'in', 'the', 'urban', 'or', 'semi', 'urban', 'areas', 'To', 'the', 'very', 'poor', 'every', 'child', 'is', 'an', 'earner', 'and', 'a', 'helper', 'We', 'ar', 'experimenting', 'with', 'new', 'approaches', 'and', 'the', 'family', 'planning', 'programme', 'is', 'being', 'combined', 'with', 'those', 'of', 'maternity', 'and', 'child', 'welfare', 'nutrition', 'and', 'development', 'in', 'general', 'It', 'is', 'an', 'over', 'simplification', 'to', 'blame', 'all', 'the', 'world', 's', 'problems', 'on', 'increasing', 'population', 'Countries', 'with', 'but', 'a', 'small', 'fraction', 'of', 'the', 'world', 'population', 'consume', 'the', 'bulk', 'of', 'the', 'world', 's', 'production', 'of', 'minerals', 'fossil', 'fuels', 'and', 'so', 'on', 'Thus', 'we', 'see', 'that', 'when', 'it', 'comes', 'to', 'the', 'depletion', 'of', 'natural', 'resources', 'and', 'environmental', 'pollution', 'the', 'increase', 'of', 'one', 'inhabitant', 'in', 'an', 'affluent', 'country', 'at', 'his', 'level', 'of', 'living', 'is', 'equivalent', 'to', 'an', 'increase', 'of', 'many', 'Asian', 'Africans', 'or', 'Latin', 'Americans', 'at', 'their', 'current', 'material', 'levels', 'of', 'living', 'The', 'inherent', 'conflict', 'is', 'not', 'between', 'conservation', 'and', 'development', 'but', 'between', 'environment', 'and', 'reckless', 'exploitation', 'of', 'man', 'and', 'earth', 'in', 'the', 'name', 'of', 'efficiency', 'Historians', 'tell', 'us', 'that', 'the', 'modern', 'age', 'began', 'with', 'the', 'will', 'to', 'freedom', 'of', 'the', 'individual', 'And', 'the', 'individual', 'came', 'to', 'believe', 'that', 'the', 'had', 'rights', 'with', 'no', 'corresponding', 'obligations', 'The', 'man', 'who', 'got', 'ahead', 'was', 'the', 'one', 'who', 'commanded', 'admiration', 'No', 'questions', 'were', 'asked', 'as', 'to', 'the', 'methods', 'employed', 'or', 'the', 'price', 'which', 'others', 'had', 'to', 'pay', 'The', 'industrial', 'civilization', 'has', 'promoted', 'the', 'concept', 'of', 'the', 'efficient', 'man', 'he', 'whose', 'entire', 'energies', 'are', 'concentrated', 'on', 'producing', 'more', 'in', 'a', 'given', 'unit', 'of', 'time', 'and', 'from', 'a', 'given', 'unit', 'of', 'manpower', 'Groups', 'or', 'individuals', 'who', 'ar', 'less', 'competitive', 'and', 'according', 'to', 'this', 'test', 'less', 'efficient', 'are', 'regarded', 'as', 'lesser', 'breeds', 'for', 'example', 'the', 'older', 'civilizations', 'the', 'black', 'and', 'brown', 'peoples', 'women', 'and', 'certain', 'professions', 'Obsolescence', 'is', 'built', 'into', 'production', 'and', 'efficiency', 'is', 'based', 'on', 'the', 'creation', 'of', 'goods', 'which', 'are', 'not', 'really', 'needed', 'and', 'which', 'cannot', 'be', 'disposed', 'of', 'when', 'discarded', 'What', 'price', 'such', 'efficiency', 'now', 'and', 'is', 'not', 'recklessness', 'a', 'more', 'appropriate', 'term', 'for', 'such', 'a', 'behaviour', 'All', 'the', 'isms', 'of', 'the', 'modern', 'age', 'even', 'those', 'which', 'in', 'theory', 'disown', 'the', 'private', 'profit', 'principle', 'assume', 'that', 'man', 's', 'cardinal', 'interest', 'is', 'acquisition', 'The', 'profit', 'motive', 'individual', 'or', 'collectives', 'seems', 'to', 'overshadow', 'all', 'else', 'This', 'overriding', 'concern', 'with', 'self', 'and', 'Today', 'is', 'the', 'basic', 'cause', 'of', 'the', 'ecological', 'crisis', 'Pollution', 'is', 'not', 'a', 'technical', 'problem', 'The', 'fault', 'lies', 'not', 'in', 'science', 'and', 'technology', 'as', 'such', 'but', 'in', 'the', 'sense', 'of', 'values', 'of', 'the', 'contemporary', 'world', 'which', 'ignores', 'the', 'rights', 'of', 'others', 'and', 'is', 'oblivious', 'of', 'the', 'longer', 'perspective', 'There', 'are', 'grave', 'misgivings', 'that', 'the', 'discussion', 'on', 'ecology', 'may', 'be', 'designed', 'to', 'distract', 'attention', 'from', 'the', 'problems', 'of', 'war', 'and', 'poverty', 'We', 'have', 'to', 'prove', 'to', 'the', 'disinherited', 'majority', 'of', 'the', 'world', 'that', 'ecology', 'and', 'conservation', 'will', 'not', 'work', 'against', 'their', 'interest', 'but', 'will', 'bring', 'an', 'improvement', 'in', 'their', 'lives', 'To', 'withhold', 'technology', 'from', 'them', 'would', 'deprive', 'them', 'of', 'vast', 'resources', 'of', 'energy', 'and', 'knowledge', 'This', 'is', 'no', 'longer', 'feasible', 'not', 'will', 'it', 'be', 'acceptable', 'The', 'environmental', 'problems', 'of', 'developing', 'countries', 'are', 'not', 'the', 'side', 'effects', 'of', 'excessive', 'industrialization', 'but', 'reflect', 'the', 'inadequacy', 'of', 'development', 'The', 'rich', 'countries', 'may', 'look', 'upon', 'development', 'as', 'the', 'cause', 'of', 'environmental', 'destruction', 'but', 'to', 'us', 'it', 'is', 'one', 'of', 'the', 'primary', 'means', 'of', 'improving', 'the', 'environment', 'for', 'living', 'or', 'providing', 'food', 'water', 'sanitation', 'and', 'shelter', 'of', 'making', 'the', 'deserts', 'green', 'and', 'the', 'mountains', 'habitable', 'The', 'research', 'and', 'perseverance', 'of', 'dedicated', 'people', 'have', 'given', 'us', 'an', 'insight', 'which', 'is', 'likely', 'to', 'play', 'an', 'important', 'part', 'in', 'the', 'shaping', 'of', 'our', 'future', 'plans', 'We', 'see', 'that', 'however', 'much', 'man', 'hankers', 'after', 'material', 'goods', 'they', 'can', 'never', 'give', 'him', 'full', 'satisfaction', 'Thus', 'the', 'higher', 'standard', 'of', 'living', 'must', 'be', 'achieved', 'without', 'alienating', 'people', 'from', 'their', 'heritage', 'and', 'without', 'despoiling', 'nature', 'of', 'its', 'beauty', 'freshness', 'and', 'purity', 'so', 'essential', 'to', 'our', 'lives', 'The', 'most', 'urgent', 'and', 'basic', 'question', 'is', 'that', 'of', 'peace', 'Nothing', 'is', 'so', 'pointless', 'as', 'modern', 'warfare', 'Nothing', 'destroys', 'so', 'instantly', 'so', 'completely', 'as', 'the', 'diabolic', 'weapons', 'which', 'not', 'only', 'kill', 'but', 'maim', 'and', 'deform', 'the', 'living', 'and', 'the', 'yet', 'to', 'be', 'born', 'which', 'poison', 'the', 'land', 'leaving', 'long', 'trails', 'of', 'ugliness', 'barrenness', 'and', 'hopeless', 'desolation', 'What', 'ecological', 'projects', 'can', 'survive', 'a', 'war', 'The', 'Prime', 'Minister', 'of', 'Sweden', 'Mr', 'Olof', 'Palme', 'has', 'already', 'drawn', 'the', 'attention', 'of', 'the', 'Conference', 'to', 'this', 'in', 'powerful', 'words', 'It', 'is', 'clear', 'that', 'the', 'environmental', 'crisis', 'which', 'is', 'confronting', 'the', 'world', 'will', 'profoundly', 'alter', 'the', 'future', 'destiny', 'or', 'our', 'planet', 'No', 'one', 'among', 'us', 'whatever', 'our', 'status', 'strength', 'or', 'circumstance', 'can', 'remain', 'unaffected', 'The', 'process', 'of', 'change', 'challenges', 'present', 'international', 'policies', 'Will', 'the', 'growing', 'awareness', 'of', 'one', 'earth', 'and', 'one', 'environment', 'guide', 'us', 'to', 'the', 'concept', 'of', 'one', 'humanity', 'Will', 'there', 'be', 'a', 'more', 'equitable', 'sharing', 'of', 'environmental', 'costs', 'and', 'greater', 'international', 'interest', 'in', 'the', 'accelerated', 'progress', 'of', 'the', 'less', 'developed', 'world', 'Or', 'will', 'it', 'remain', 'confined', 'to', 'a', 'narrow', 'concern', 'based', 'on', 'exclusive', 'self', 'sufficiency', 'The', 'first', 'essays', 'in', 'narrowing', 'economic', 'and', 'technological', 'disparities', 'have', 'not', 'succeeded', 'because', 'the', 'policies', 'of', 'aid', 'were', 'made', 'to', 'subserve', 'the', 'equations', 'of', 'power', 'We', 'hope', 'that', 'the', 'renewed', 'emphasis', 'on', 'self', 'reliance', 'brought', 'a', 'about', 'by', 'the', 'change', 'in', 'the', 'climate', 'for', 'aid', 'will', 'also', 'promote', 'search', 'for', 'new', 'criteria', 'of', 'human', 'satisfaction', 'In', 'the', 'meantime', 'the', 'ecological', 'crises', 'should', 'not', 'add', 'to', 'the', 'burdens', 'of', 'the', 'weaker', 'nations', 'by', 'introducing', 'new', 'considerations', 'in', 'the', 'political', 'and', 'trade', 'policies', 'of', 'rich', 'nations', 'It', 'would', 'be', 'ironic', 'if', 'the', 'fight', 'against', 'pollution', 'were', 'to', 'be', 'converted', 'into', 'another', 'business', 'out', 'of', 'which', 'a', 'few', 'companies', 'corporations', 'or', 'nations', 'would', 'make', 'profits', 'at', 'the', 'cost', 'of', 'the', 'many', 'Here', 'is', 'a', 'branch', 'of', 'experimentation', 'and', 'discovery', 'in', 'which', 'scientist', 'of', 'all', 'nations', 'should', 'take', 'interest', 'They', 'should', 'ensure', 'that', 'their', 'findings', 'are', 'available', 'to', 'all', 'nations', 'unrestricted', 'by', 'patents', 'I', 'am', 'glad', 'that', 'the', 'Conference', 'has', 'given', 'thought', 'on', 'this', 'aspect', 'of', 'the', 'problem', 'Life', 'is', 'one', 'and', 'the', 'world', 'is', 'one', 'and', 'all', 'these', 'questions', 'are', 'inter', 'linked', 'The', 'population', 'explosion', 'poverty', 'ignorance', 'and', 'disease', 'the', 'pollution', 'of', 'our', 'surroundings', 'the', 'stockpiling', 'of', 'nuclear', 'weapons', 'and', 'biological', 'and', 'chemical', 'agents', 'of', 'destruction', 'are', 'all', 'parts', 'of', 'a', 'vicious', 'circle', 'Each', 'is', 'important', 'and', 'urgent', 'but', 'dealing', 'with', 'them', 'one', 'by', 'one', 'would', 'be', 'wasted', 'effort', 'It', 'serves', 'little', 'purpose', 'to', 'dwell', 'on', 'the', 'past', 'or', 'to', 'apportion', 'blame', 'no', 'one', 'of', 'us', 'is', 'blameless', 'If', 'some', 'are', 'able', 'to', 'dominate', 'over', 'others', 'it', 'is', 'at', 'least', 'partially', 'due', 'to', 'the', 'weakness', 'the', 'lack', 'of', 'unity', 'and', 'the', 'temptation', 'of', 'gaining', 'some', 'advantage', 'on', 'the', 'part', 'of', 'those', 'who', 'submit', 'If', 'the', 'prosperous', 'have', 'been', 'exploiting', 'the', 'needy', 'can', 'we', 'honestly', 'claim', 'that', 'in', 'our', 'own', 'societies', 'people', 'do', 'not', 'take', 'advantage', 'of', 'the', 'weaker', 'sections', 'We', 'must', 're', 'evaluate', 'the', 'fundamentals', 'on', 'which', 'our', 'respective', 'civic', 'societies', 'are', 'based', 'and', 'the', 'ideals', 'by', 'which', 'they', 'are', 'sustained', 'If', 'there', 'is', 'to', 'be', 'a', 'change', 'of', 'heart', 'a', 'change', 'of', 'direction', 'and', 'methods', 'of', 'functioning', 'it', 'is', 'not', 'an', 'organization', 'or', 'a', 'country', 'no', 'matter', 'how', 'well', 'intentioned', 'which', 'can', 'achieve', 'it', 'While', 'each', 'country', 'must', 'deal', 'with', 'that', 'aspect', 'of', 'the', 'problem', 'which', 'is', 'most', 'relevant', 'to', 'it', 'it', 'is', 'obvious', 'that', 'all', 'countries', 'must', 'unite', 'in', 'an', 'overall', 'endeavour', 'There', 'is', 'no', 'alternative', 'to', 'a', 'cooperative', 'approach', 'on', 'a', 'global', 'scale', 'to', 'the', 'entire', 'spectrum', 'of', 'our', 'problems', 'I', 'have', 'referred', 'to', 'some', 'problems', 'which', 'seem', 'to', 'me', 'to', 'be', 'the', 'underlying', 'causes', 'of', 'the', 'present', 'crises', 'in', 'our', 'civilization', 'This', 'is', 'not', 'in', 'the', 'expectation', 'that', 'this', 'Conference', 'can', 'achieve', 'miracles', 'or', 'solve', 'all', 'the', 'world', 's', 'difficulties', 'but', 'in', 'the', 'hope', 'that', 'the', 'opinions', 'of', 'each', 'national', 'will', 'be', 'kept', 'in', 'focus', 'that', 'these', 'problems', 'will', 'be', 'viewed', 'in', 'perspective', 'and', 'each', 'project', 'devised', 'as', 'part', 'of', 'the', 'whole', 'On', 'a', 'previous', 'occasion', 'I', 'have', 'spoken', 'of', 'the', 'unfinished', 'revolution', 'in', 'our', 'countries', 'I', 'am', 'now', 'convinced', 'that', 'this', 'can', 'be', 'taken', 'to', 'its', 'culmination', 'when', 'it', 'is', 'accompanied', 'by', 'a', 'revolution', 'in', 'social', 'thinking', 'In', '1968', 'at', 'the', '14th', 'General', 'Conference', 'of', 'UNESCO', 'the', 'Indian', 'delegation', 'along', 'with', 'others', 'proposed', 'a', 'new', 'and', 'major', 'programme', 'entitled', 'a', 'design', 'for', 'living', 'This', 'is', 'essential', 'to', 'grasp', 'the', 'full', 'implications', 'of', 'technical', 'advance', 'and', 'its', 'impact', 'on', 'different', 'sections', 'and', 'groups', 'We', 'do', 'not', 'want', 'to', 'put', 'the', 'clock', 'back', 'or', 'resign', 'ourselves', 'to', 'a', 'simplistic', 'natural', 'state', 'We', 'want', 'new', 'directions', 'in', 'the', 'wiser', 'use', 'of', 'the', 'knowledge', 'and', 'tools', 'with', 'which', 'science', 'has', 'equipped', 'us', 'And', 'this', 'cannot', 'be', 'just', 'one', 'upsurge', 'but', 'a', 'continuous', 'search', 'into', 'cause', 'and', 'effect', 'and', 'an', 'unending', 'effort', 'to', 'match', 'technology', 'with', 'higher', 'levels', 'of', 'thinking', 'We', 'must', 'concern', 'ourselves', 'not', 'only', 'with', 'the', 'kind', 'of', 'world', 'we', 'want', 'but', 'also', 'with', 'what', 'kind', 'of', 'man', 'should', 'inhabit', 'it', 'Surely', 'we', 'do', 'not', 'desire', 'a', 'society', 'divided', 'into', 'those', 'who', 'condition', 'and', 'those', 'who', 'are', 'conditioned', 'We', 'want', 'thinking', 'people', 'capable', 'of', 'spontaneous', 'self', 'directed', 'activity', 'people', 'who', 'are', 'interested', 'and', 'interesting', 'and', 'who', 'are', 'imbued', 'with', 'compassion', 'and', 'concern', 'for', 'others', 'It', 'will', 'not', 'be', 'easy', 'for', 'large', 'societies', 'to', 'change', 'their', 'style', 'of', 'living', 'They', 'cannot', 'be', 'coerced', 'to', 'do', 'so', 'nor', 'can', 'governmental', 'action', 'suffice', 'People', 'can', 'be', 'motivated', 'and', 'urged', 'to', 'participate', 'in', 'better', 'alternatives', 'It', 'has', 'been', 'my', 'experience', 'that', 'people', 'who', 'are', 'at', 'cross', 'purposes', 'with', 'nature', 'are', 'cynical', 'about', 'mankind', 'and', 'ill', 'at', 'ease', 'with', 'themselves', 'Modern', 'man', 'must', 're', 'establish', 'an', 'unbroken', 'link', 'with', 'nature', 'and', 'with', 'life', 'He', 'must', 'again', 'learn', 'to', 'invoke', 'the', 'energy', 'of', 'growing', 'things', 'and', 'to', 'recognize', 'as', 'did', 'the', 'ancients', 'in', 'India', 'centuries', 'ago', 'that', 'one', 'can', 'take', 'from', 'the', 'Earth', 'and', 'the', 'atmosphere', 'only', 'so', 'much', 'as', 'one', 'puts', 'back', 'into', 'them', 'In', 'their', 'hymn', 'to', 'Earth', 'the', 'sages', 'of', 'the', 'Atharva', 'Veda', 'chanted', 'I', 'quote', 'What', 'of', 'thee', 'I', 'dig', 'out', 'let', 'that', 'quickly', 'grow', 'over', 'Let', 'me', 'not', 'hit', 'thy', 'vitals', 'or', 'thy', 'heart', 'So', 'can', 'man', 'himself', 'be', 'vital', 'and', 'of', 'good', 'heart', 'and', 'conscious', 'of', 'his', 'responsibility']\n"
     ]
    }
   ],
   "source": [
    "import nltk\n",
    "from nltk.tokenize import RegexpTokenizer\n",
    "tokenizer = RegexpTokenizer(r'\\w+')\n",
    "tokens = tokenizer.tokenize(text)\n",
    "print(tokens)"
   ]
  },
  {
   "cell_type": "markdown",
   "metadata": {},
   "source": [
    "If we want to remove stop words, we can simply remove them from the list using the remove function in Python. Note the similarity of Python code in the cell below and natural speech.<br>  1. The stopwords are 'the', 'of', 'and', 'to'... | stop_words = ['the','of','and'... <br> 2. For each of the tokens in the list of tokens | for token in tokens: <br>  3. if the token is in the list of stopwords | if token in stop_words:<br>4. remove the token from the list of tokens. | tokens.remove(token)<br> 5. Show me the current list of tokens.  | print(tokens)"
   ]
  },
  {
   "cell_type": "code",
   "execution_count": 116,
   "metadata": {
    "collapsed": false
   },
   "outputs": [
    {
     "name": "stdout",
     "output_type": "stream",
     "text": [
      "['Man', 'And', 'Environment', 'Smt', 'Indira', 'Gandhi', 'late', 'Prime', 'Minister', 'India', 'Plenary', 'Session', 'United', 'Nations', 'Conference', 'on', 'Human', 'Environment', 'Stockholm', '14th', 'June', '1972', 'It', 'indeed', 'an', 'honour', 'address', 'this', 'Conference', 'in', 'itself', 'fresh', 'expression', 'spirit', 'created', 'United', 'Nations', 'concern', 'present', 'future', 'welfare', 'humanity', 'It', 'does', 'aim', 'merely', 'at', 'securing', 'limited', 'agreements', 'but', 'at', 'establishing', 'peace', 'harmony', 'in', 'life', 'among', 'all', 'races', 'Nature', 'This', 'gathering', 'represents', 'man', 's', 'earnest', 'endeavour', 'understand', 'his', 'own', 'condition', 'prolong', 'his', 'tenancy', 'this', 'planet', 'A', 'vast', 'amount', 'detailed', 'preparatory', 'work', 'has', 'gone', 'into', 'convening', 'this', 'Conference', 'guided', 'by', 'dynamic', 'personality', 'Mr', 'Maurice', 'Strong', 'Secretary', 'General', 'I', 'have', 'had', 'good', 'fortune', 'growing', 'up', 'sense', 'kinship', 'nature', 'in', 'all', 'its', 'manifestations', 'Birds', 'plants', 'stones', 'were', 'companions', 'sleeping', 'under', 'star', 'strewn', 'sky', 'I', 'became', 'familiar', 'names', 'movements', 'constellations', 'But', 'my', 'deep', 'interest', 'in', 'this', 'only', 'earth', 'was', 'itself', 'but', 'as', 'fit', 'home', 'man', 'One', 'cannot', 'truly', 'human', 'civilized', 'unless', 'one', 'looks', 'upon', 'only', 'all', 'fellow', 'men', 'but', 'all', 'creation', 'eyes', 'friend', 'Throughout', 'India', 'edicts', 'carved', 'on', 'rocks', 'iron', 'pillars', 'reminders', '22', 'centuries', 'ago', 'Emperor', 'Ashoka', 'defined', 'King', 's', 'duty', 'as', 'merely', 'protect', 'citizens', 'punish', 'wrongdoers', 'but', 'also', 'preserve', 'animal', 'life', 'forest', 'trees', 'Ashoka', 'was', 'first', 'perhaps', 'only', 'monarch', 'until', 'very', 'recently', 'forbid', 'killing', 'large', 'number', 'species', 'animals', 'sport', 'food', 'foreshadowing', 'some', 'concerns', 'this', 'Conference', 'He', 'went', 'further', 'regretting', 'carnage', 'his', 'military', 'conquests', 'enjoining', 'upon', 'his', 'successors', 'find', 'their', 'only', 'pleasure', 'in', 'peace', 'comes', 'through', 'righteousness', 'Along', 'rest', 'mankind', 'in', 'India', 'in', 'spite', 'Ashoka', 'have', 'been', 'guilty', 'wanton', 'disregard', 'sources', 'sustenance', 'share', 'you', 'concern', 'at', 'rapid', 'deterioration', 'flora', 'fauna', 'Some', 'own', 'wildlife', 'has', 'been', 'wiped', 'out', 'miles', 'forests', 'beautiful', 'old', 'trees', 'mute', 'witnesses', 'history', 'have', 'been', 'destroyed', 'Even', 'though', 'industrial', 'development', 'in', 'its', 'infancy', 'at', 'its', 'most', 'difficult', 'stage', 'taking', 'various', 'steps', 'deal', 'incipient', 'environmental', 'imbalances', 'more', 'so', 'because', 'concern', 'human', 'being', 'species', 'also', 'imperiled', 'In', 'poverty', 'he', 'threatened', 'by', 'malnutrition', 'disease', 'in', 'weakness', 'by', 'war', 'in', 'richness', 'by', 'pollution', 'brought', 'about', 'by', 'his', 'own', 'prosperity', 'It', 'said', 'in', 'country', 'after', 'country', 'progress', 'should', 'become', 'synonymous', 'an', 'assault', 'on', 'nature', 'who', 'part', 'nature', 'dependent', 'on', 'her', 'very', 'need', 'speak', 'constantly', 'about', 'exploiting', 'nature', 'When', 'highest', 'mountain', 'in', 'world', 'was', 'climber', 'in', '1953', 'Jawaharlal', 'Nehru', 'objected', 'phrase', 'conquest', 'Everest', 'he', 'thought', 'was', 'arrogant', 'It', 'surprising', 'this', 'lack', 'consideration', 'constant', 'need', 'prove', 'one', 's', 'superiority', 'should', 'projected', 'onto', 'treatment', 'fellowmen', 'I', 'remember', 'Edward', 'Thompson', 'British', 'writer', 'good', 'friend', 'India', 'once', 'telling', 'Mr', 'Gandhi', 'wildlife', 'was', 'fast', 'disappearing', 'Remarked', 'Mahatma', 'It', 'decreasing', 'in', 'jungles', 'but', 'it', 'increasing', 'in', 'town', 'gathered', 'here', 'under', 'aegis', 'United', 'Nations', 'supposed', 'belong', 'same', 'family', 'sharing', 'common', 'traits', 'impelled', 'by', 'same', 'basic', 'desires', 'yet', 'inhabit', 'divided', 'world', 'How', 'can', 'it', 'otherwise', 'There', 'still', 'no', 'recognition', 'equality', 'man', 'respect', 'him', 'as', 'an', 'individual', 'In', 'matters', 'colour', 'race', 'religion', 'custom', 'society', 'governed', 'by', 'prejudice', 'Tensions', 'arise', 'because', 'man', 's', 'aggressiveness', 'notions', 'superiority', 'power', 'big', 'stick', 'prevails', 'it', 'used', 'in', 'favour', 'fair', 'play', 'beauty', 'but', 'chase', 'imaginary', 'windmills', 'assume', 'right', 'interfere', 'in', 'affairs', 'others', 'arrogate', 'authority', 'action', 'would', 'normally', 'allowed', 'Many', 'advanced', 'countries', 'today', 'have', 'reached', 'their', 'present', 'affluence', 'by', 'their', 'domination', 'over', 'other', 'races', 'countries', 'exploitation', 'their', 'own', 'natural', 'resources', 'They', 'got', 'head', 'start', 'through', 'sheer', 'ruthlessness', 'undisturbed', 'by', 'feelings', 'compassion', 'by', 'abstract', 'theories', 'freedom', 'equality', 'justice', 'stirrings', 'demands', 'political', 'rights', 'citizens', 'economic', 'rights', 'toiler', 'came', 'after', 'considerable', 'advance', 'had', 'been', 'made', 'riches', 'labour', 'colonized', 'countries', 'played', 'no', 'small', 'part', 'in', 'industrialization', 'prosperity', 'West', 'Now', 'as', 'struggle', 'create', 'better', 'life', 'people', 'it', 'in', 'vastly', 'different', 'circumstances', 'obviously', 'in', 'today', 's', 'eagle', 'eyed', 'watchfulness', 'cannot', 'indulge', 'in', 'such', 'practices', 'even', 'worthwhile', 'purpose', 'bound', 'by', 'own', 'ideals', 'owe', 'allegiance', 'principles', 'rights', 'workers', 'norms', 'enshrined', 'in', 'charters', 'international', 'organizations', 'Above', 'all', 'answerable', 'millions', 'politically', 'awakened', 'citizens', 'in', 'countries', 'All', 'these', 'make', 'progress', 'costlier', 'more', 'complicated', 'On', 'one', 'hand', 'rich', 'look', 'askance', 'at', 'continuing', 'poverty', 'on', 'other', 'they', 'warn', 'us', 'against', 'their', 'own', 'methods', 'do', 'wish', 'impoverish', 'environment', 'any', 'further', 'yet', 'cannot', 'moment', 'forget', 'grim', 'poverty', 'large', 'numbers', 'people', 'Are', 'poverty', 'need', 'greatest', 'polluters', 'For', 'instance', 'unless', 'in', 'position', 'provide', 'employment', 'purchasing', 'power', 'daily', 'necessities', 'tribal', 'people', 'those', 'who', 'live', 'in', 'around', 'jungles', 'cannot', 'prevent', 'them', 'from', 'combing', 'forest', 'food', 'livelihood', 'from', 'poaching', 'from', 'despoiling', 'vegetation', 'When', 'they', 'themselves', 'feel', 'deprived', 'how', 'can', 'urge', 'preservation', 'animals', 'How', 'can', 'speak', 'those', 'who', 'live', 'in', 'villages', 'in', 'slums', 'about', 'keeping', 'oceans', 'rivers', 'air', 'clean', 'when', 'their', 'own', 'lives', 'contaminated', 'at', 'source', 'environment', 'cannot', 'improved', 'in', 'conditions', 'poverty', 'Nor', 'can', 'poverty', 'eradicated', 'without', 'use', 'science', 'technology', 'Must', 'there', 'conflict', 'between', 'technology', 'truly', 'better', 'world', 'between', 'enlightenment', 'spirit', 'higher', 'standard', 'living', 'Foreigners', 'sometimes', 'ask', 'what', 'us', 'seems', 'very', 'strange', 'question', 'whether', 'progress', 'in', 'India', 'would', 'mean', 'diminishing', 'her', 'spirituality', 'her', 'values', 'Is', 'spiritual', 'quality', 'so', 'superficial', 'as', 'dependent', 'upon', 'lack', 'material', 'comfort', 'As', 'country', 'more', 'less', 'spiritual', 'than', 'any', 'other', 'but', 'traditionally', 'people', 'have', 'respected', 'spirit', 'detachment', 'renunciation', 'Historically', 'great', 'spiritual', 'discoveries', 'were', 'made', 'during', 'periods', 'comparative', 'affluence', 'doctrines', 'detachment', 'from', 'possessions', 'were', 'developed', 'as', 'rationalization', 'deprivation', 'but', 'prevent', 'comfort', 'ease', 'from', 'dulling', 'senses', 'Spirituality', 'means', 'enrichment', 'spirit', 'strengthening', 'ones', 'inner', 'resources', 'stretching', 'one', 's', 'range', 'experience', 'It', 'ability', 'still', 'in', 'midst', 'activity', 'vibrantly', 'alive', 'in', 'moments', 'calm', 'separate', 'essence', 'from', 'circumstances', 'accept', 'joy', 'sorrow', 'some', 'equanimity', 'Perception', 'compassion', 'marks', 'true', 'spirituality', 'I', 'am', 'reminded', 'an', 'incident', 'in', 'one', 'tribal', 'areas', 'vociferous', 'demand', 'elder', 'tribal', 'chiefs', 'their', 'customs', 'should', 'left', 'undisturbed', 'found', 'support', 'from', 'noted', 'anthropologists', 'In', 'its', 'anxiety', 'majority', 'should', 'submerge', 'many', 'ethnic', 'racial', 'cultural', 'groups', 'in', 'country', 'Government', 'India', 'largely', 'accepted', 'this', 'advice', 'I', 'was', 'amongst', 'those', 'who', 'entirely', 'approved', 'However', 'visit', 'remote', 'part', 'north', 'east', 'frontier', 'brought', 'me', 'in', 'touch', 'different', 'point', 'view', 'protest', 'younger', 'elements', 'while', 'rest', 'India', 'was', 'on', 'way', 'modernization', 'they', 'were', 'being', 'preserved', 'as', 'museum', 'pieces', 'Could', 'say', 'same', 'affluent', 'nations', 'For', 'last', 'quarter', 'century', 'have', 'been', 'engaged', 'in', 'an', 'enterprise', 'unparalled', 'in', 'human', 'history', 'provision', 'basic', 'needs', 'one', 'sixth', 'mankind', 'within', 'span', 'one', 'two', 'generations', 'When', 'launched', 'on', 'effort', 'early', 'planners', 'had', 'more', 'than', 'usual', 'gaps', 'fill', 'There', 'was', 'enough', 'data', 'no', 'helpful', 'books', 'No', 'guidance', 'could', 'sought', 'from', 'experience', 'other', 'countries', 'whose', 'conditions', 'political', 'economic', 'social', 'technological', 'were', 'altogether', 'different', 'Planning', 'in', 'sense', 'were', 'innovating', 'had', 'never', 'been', 'used', 'in', 'context', 'mixed', 'economy', 'But', 'could', 'wait', 'need', 'improve', 'conditions', 'our', 'people', 'was', 'pressing', 'Planning', 'action', 'improvement', 'data', 'leading', 'better', 'planning', 'better', 'action', 'all', 'this', 'was', 'continuous', 'overlapping', 'process', 'Our', 'industrialization', 'tended', 'follow', 'paths', 'more', 'advanced', 'countries', 'had', 'traversed', 'earlier', 'With', 'advance', '60', 's', 'particularly', 'during', 'last', 'five', 'years', 'have', 'encountered', 'bewildering', 'collection', 'problems', 'some', 'due', 'our', 'shortcomings', 'but', 'many', 'inherent', 'in', 'process', 'in', 'existing', 'attitudes', 'feeling', 'growing', 'should', 're', 'order', 'our', 'priorities', 'move', 'away', 'from', 'single', 'dimensional', 'model', 'has', 'viewed', 'growth', 'from', 'certain', 'limited', 'angles', 'seems', 'have', 'given', 'higher', 'place', 'things', 'rather', 'than', 'persons', 'has', 'increased', 'our', 'wants', 'rather', 'than', 'our', 'enjoyment', 'should', 'have', 'more', 'comprehensive', 'approach', 'life', 'centred', 'on', 'man', 'as', 'statistic', 'but', 'an', 'individual', 'many', 'sides', 'his', 'personality', 'solution', 'these', 'problems', 'cannot', 'isolated', 'phenomena', 'marginal', 'importance', 'but', 'must', 'an', 'integral', 'part', 'unfolding', 'very', 'process', 'development', 'extreme', 'forms', 'in', 'questions', 'population', 'environmental', 'pollution', 'posed', 'obscure', 'total', 'view', 'political', 'economic', 'social', 'situations', 'Government', 'India', 'one', 'few', 'has', 'an', 'officially', 'sponsored', 'programme', 'family', 'planning', 'this', 'making', 'some', 'progress', 'believe', 'planned', 'families', 'will', 'make', 'healthier', 'more', 'conscious', 'population', 'But', 'know', 'also', 'no', 'programme', 'population', 'control', 'can', 'effective', 'without', 'education', 'without', 'visible', 'rise', 'in', 'standard', 'living', 'Our', 'own', 'programmes', 'have', 'succeeded', 'in', 'urban', 'semi', 'urban', 'areas', 'To', 'very', 'poor', 'every', 'child', 'an', 'earner', 'helper', 'ar', 'experimenting', 'new', 'approaches', 'family', 'planning', 'programme', 'being', 'combined', 'those', 'maternity', 'child', 'welfare', 'nutrition', 'development', 'in', 'general', 'It', 'an', 'over', 'simplification', 'blame', 'all', 'world', 's', 'problems', 'on', 'increasing', 'population', 'Countries', 'but', 'small', 'fraction', 'world', 'population', 'consume', 'bulk', 'world', 's', 'production', 'minerals', 'fossil', 'fuels', 'so', 'on', 'Thus', 'see', 'when', 'it', 'comes', 'depletion', 'natural', 'resources', 'environmental', 'pollution', 'increase', 'one', 'inhabitant', 'in', 'an', 'affluent', 'country', 'at', 'his', 'level', 'living', 'equivalent', 'an', 'increase', 'many', 'Asian', 'Africans', 'Latin', 'Americans', 'at', 'their', 'current', 'material', 'levels', 'living', 'inherent', 'conflict', 'between', 'conservation', 'development', 'but', 'between', 'environment', 'reckless', 'exploitation', 'man', 'earth', 'in', 'name', 'efficiency', 'Historians', 'tell', 'us', 'modern', 'age', 'began', 'will', 'freedom', 'individual', 'And', 'individual', 'came', 'believe', 'had', 'rights', 'no', 'corresponding', 'obligations', 'man', 'who', 'got', 'ahead', 'was', 'one', 'who', 'commanded', 'admiration', 'No', 'questions', 'were', 'asked', 'as', 'methods', 'employed', 'price', 'others', 'had', 'pay', 'industrial', 'civilization', 'has', 'promoted', 'concept', 'efficient', 'man', 'he', 'whose', 'entire', 'energies', 'concentrated', 'on', 'producing', 'more', 'in', 'given', 'unit', 'time', 'from', 'given', 'unit', 'manpower', 'Groups', 'individuals', 'who', 'ar', 'less', 'competitive', 'according', 'this', 'test', 'less', 'efficient', 'regarded', 'as', 'lesser', 'breeds', 'example', 'the', 'older', 'civilizations', 'the', 'black', 'brown', 'peoples', 'women', 'certain', 'professions', 'Obsolescence', 'built', 'into', 'production', 'efficiency', 'based', 'on', 'the', 'creation', 'goods', 'really', 'needed', 'cannot', 'disposed', 'when', 'discarded', 'What', 'price', 'such', 'efficiency', 'now', 'recklessness', 'a', 'more', 'appropriate', 'term', 'such', 'a', 'behaviour', 'All', 'the', 'isms', 'the', 'modern', 'age', 'even', 'those', 'in', 'theory', 'disown', 'the', 'private', 'profit', 'principle', 'assume', 'man', 's', 'cardinal', 'interest', 'acquisition', 'profit', 'motive', 'individual', 'collectives', 'seems', 'overshadow', 'all', 'else', 'This', 'overriding', 'concern', 'self', 'Today', 'the', 'basic', 'cause', 'the', 'ecological', 'crisis', 'Pollution', 'a', 'technical', 'problem', 'fault', 'lies', 'in', 'science', 'technology', 'as', 'such', 'but', 'in', 'the', 'sense', 'values', 'the', 'contemporary', 'world', 'ignores', 'the', 'rights', 'others', 'oblivious', 'the', 'longer', 'perspective', 'There', 'grave', 'misgivings', 'the', 'discussion', 'on', 'ecology', 'may', 'designed', 'distract', 'attention', 'from', 'the', 'problems', 'war', 'poverty', 'have', 'prove', 'the', 'disinherited', 'majority', 'the', 'world', 'ecology', 'conservation', 'will', 'work', 'against', 'their', 'interest', 'but', 'will', 'bring', 'an', 'improvement', 'in', 'their', 'lives', 'To', 'withhold', 'technology', 'from', 'them', 'would', 'deprive', 'them', 'vast', 'resources', 'energy', 'knowledge', 'This', 'no', 'longer', 'feasible', 'will', 'it', 'acceptable', 'environmental', 'problems', 'developing', 'countries', 'the', 'side', 'effects', 'excessive', 'industrialization', 'but', 'reflect', 'the', 'inadequacy', 'development', 'rich', 'countries', 'may', 'look', 'upon', 'development', 'as', 'the', 'cause', 'environmental', 'destruction', 'but', 'us', 'it', 'one', 'the', 'primary', 'means', 'improving', 'the', 'environment', 'living', 'providing', 'food', 'water', 'sanitation', 'shelter', 'making', 'the', 'deserts', 'green', 'the', 'mountains', 'habitable', 'research', 'perseverance', 'dedicated', 'people', 'have', 'given', 'us', 'an', 'insight', 'likely', 'play', 'an', 'important', 'part', 'in', 'the', 'shaping', 'our', 'future', 'plans', 'see', 'however', 'much', 'man', 'hankers', 'after', 'material', 'goods', 'they', 'can', 'never', 'give', 'him', 'full', 'satisfaction', 'Thus', 'the', 'higher', 'standard', 'living', 'must', 'achieved', 'without', 'alienating', 'people', 'from', 'their', 'heritage', 'without', 'despoiling', 'nature', 'its', 'beauty', 'freshness', 'purity', 'so', 'essential', 'our', 'lives', 'most', 'urgent', 'basic', 'question', 'peace', 'Nothing', 'so', 'pointless', 'as', 'modern', 'warfare', 'Nothing', 'destroys', 'so', 'instantly', 'so', 'completely', 'as', 'the', 'diabolic', 'weapons', 'only', 'kill', 'but', 'maim', 'deform', 'the', 'living', 'the', 'yet', 'born', 'poison', 'the', 'land', 'leaving', 'long', 'trails', 'ugliness', 'barrenness', 'hopeless', 'desolation', 'What', 'ecological', 'projects', 'can', 'survive', 'a', 'war', 'Prime', 'Minister', 'Sweden', 'Mr', 'Olof', 'Palme', 'has', 'already', 'drawn', 'the', 'attention', 'the', 'Conference', 'this', 'in', 'powerful', 'words', 'It', 'clear', 'the', 'environmental', 'crisis', 'confronting', 'the', 'world', 'will', 'profoundly', 'alter', 'the', 'future', 'destiny', 'our', 'planet', 'No', 'one', 'among', 'us', 'whatever', 'our', 'status', 'strength', 'circumstance', 'can', 'remain', 'unaffected', 'process', 'change', 'challenges', 'present', 'international', 'policies', 'Will', 'the', 'growing', 'awareness', 'one', 'earth', 'one', 'environment', 'guide', 'us', 'the', 'concept', 'one', 'humanity', 'Will', 'there', 'a', 'more', 'equitable', 'sharing', 'environmental', 'costs', 'greater', 'international', 'interest', 'in', 'the', 'accelerated', 'progress', 'the', 'less', 'developed', 'world', 'Or', 'will', 'it', 'remain', 'confined', 'a', 'narrow', 'concern', 'based', 'on', 'exclusive', 'self', 'sufficiency', 'first', 'essays', 'in', 'narrowing', 'economic', 'technological', 'disparities', 'have', 'succeeded', 'because', 'the', 'policies', 'aid', 'were', 'made', 'subserve', 'the', 'equations', 'power', 'hope', 'the', 'renewed', 'emphasis', 'on', 'self', 'reliance', 'brought', 'a', 'about', 'by', 'the', 'change', 'in', 'the', 'climate', 'aid', 'will', 'also', 'promote', 'search', 'new', 'criteria', 'human', 'satisfaction', 'In', 'the', 'meantime', 'the', 'ecological', 'crises', 'should', 'add', 'the', 'burdens', 'the', 'weaker', 'nations', 'by', 'introducing', 'new', 'considerations', 'in', 'the', 'political', 'trade', 'policies', 'rich', 'nations', 'It', 'would', 'ironic', 'if', 'the', 'fight', 'against', 'pollution', 'were', 'converted', 'into', 'another', 'business', 'out', 'a', 'few', 'companies', 'corporations', 'nations', 'would', 'make', 'profits', 'at', 'the', 'cost', 'the', 'many', 'Here', 'a', 'branch', 'experimentation', 'discovery', 'in', 'scientist', 'all', 'nations', 'should', 'take', 'interest', 'They', 'should', 'ensure', 'their', 'findings', 'available', 'all', 'nations', 'unrestricted', 'by', 'patents', 'I', 'am', 'glad', 'the', 'Conference', 'has', 'given', 'thought', 'on', 'this', 'aspect', 'the', 'problem', 'Life', 'one', 'the', 'world', 'one', 'all', 'these', 'questions', 'inter', 'linked', 'population', 'explosion', 'poverty', 'ignorance', 'disease', 'the', 'pollution', 'our', 'surroundings', 'the', 'stockpiling', 'nuclear', 'weapons', 'biological', 'chemical', 'agents', 'destruction', 'all', 'parts', 'a', 'vicious', 'circle', 'Each', 'important', 'urgent', 'but', 'dealing', 'them', 'one', 'by', 'one', 'would', 'wasted', 'effort', 'It', 'serves', 'little', 'purpose', 'dwell', 'on', 'the', 'past', 'apportion', 'blame', 'no', 'one', 'us', 'blameless', 'If', 'some', 'are', 'able', 'dominate', 'over', 'others', 'it', 'at', 'least', 'partially', 'due', 'the', 'weakness', 'the', 'lack', 'unity', 'the', 'temptation', 'gaining', 'some', 'advantage', 'on', 'the', 'part', 'those', 'who', 'submit', 'If', 'the', 'prosperous', 'have', 'been', 'exploiting', 'the', 'needy', 'can', 'honestly', 'claim', 'in', 'our', 'own', 'societies', 'people', 'do', 'take', 'advantage', 'the', 'weaker', 'sections', 'must', 're', 'evaluate', 'the', 'fundamentals', 'on', 'our', 'respective', 'civic', 'societies', 'are', 'based', 'the', 'ideals', 'by', 'they', 'are', 'sustained', 'If', 'there', 'a', 'change', 'heart', 'a', 'change', 'direction', 'methods', 'functioning', 'it', 'not', 'an', 'organization', 'a', 'country', 'no', 'matter', 'how', 'well', 'intentioned', 'which', 'can', 'achieve', 'it', 'While', 'each', 'country', 'must', 'deal', 'aspect', 'the', 'problem', 'which', 'is', 'most', 'relevant', 'it', 'it', 'is', 'obvious', 'all', 'countries', 'must', 'unite', 'in', 'an', 'overall', 'endeavour', 'There', 'is', 'no', 'alternative', 'a', 'cooperative', 'approach', 'on', 'a', 'global', 'scale', 'the', 'entire', 'spectrum', 'our', 'problems', 'I', 'have', 'referred', 'some', 'problems', 'which', 'seem', 'me', 'the', 'underlying', 'causes', 'the', 'present', 'crises', 'in', 'our', 'civilization', 'This', 'is', 'not', 'in', 'the', 'expectation', 'this', 'Conference', 'can', 'achieve', 'miracles', 'solve', 'all', 'the', 'world', 's', 'difficulties', 'but', 'in', 'the', 'hope', 'the', 'opinions', 'each', 'national', 'will', 'kept', 'in', 'focus', 'these', 'problems', 'will', 'viewed', 'in', 'perspective', 'each', 'project', 'devised', 'as', 'part', 'the', 'whole', 'On', 'a', 'previous', 'occasion', 'I', 'have', 'spoken', 'the', 'unfinished', 'revolution', 'in', 'our', 'countries', 'I', 'am', 'now', 'convinced', 'this', 'can', 'be', 'taken', 'its', 'culmination', 'when', 'it', 'is', 'accompanied', 'by', 'a', 'revolution', 'in', 'social', 'thinking', 'In', '1968', 'at', 'the', '14th', 'General', 'Conference', 'UNESCO', 'the', 'Indian', 'delegation', 'along', 'others', 'proposed', 'a', 'new', 'major', 'programme', 'entitled', 'a', 'design', 'living', 'This', 'is', 'essential', 'grasp', 'the', 'full', 'implications', 'technical', 'advance', 'its', 'impact', 'on', 'different', 'sections', 'groups', 'do', 'not', 'want', 'put', 'the', 'clock', 'back', 'resign', 'ourselves', 'a', 'simplistic', 'natural', 'state', 'want', 'new', 'directions', 'in', 'the', 'wiser', 'use', 'the', 'knowledge', 'tools', 'which', 'science', 'has', 'equipped', 'us', 'And', 'this', 'cannot', 'be', 'just', 'one', 'upsurge', 'but', 'a', 'continuous', 'search', 'into', 'cause', 'effect', 'an', 'unending', 'effort', 'match', 'technology', 'higher', 'levels', 'thinking', 'must', 'concern', 'ourselves', 'not', 'only', 'the', 'kind', 'world', 'want', 'but', 'also', 'what', 'kind', 'man', 'should', 'inhabit', 'it', 'Surely', 'we', 'do', 'not', 'desire', 'a', 'society', 'divided', 'into', 'those', 'who', 'condition', 'those', 'who', 'are', 'conditioned', 'want', 'thinking', 'people', 'capable', 'spontaneous', 'self', 'directed', 'activity', 'people', 'who', 'are', 'interested', 'interesting', 'who', 'are', 'imbued', 'compassion', 'concern', 'others', 'It', 'will', 'not', 'be', 'easy', 'for', 'large', 'societies', 'change', 'their', 'style', 'living', 'They', 'cannot', 'be', 'coerced', 'to', 'do', 'so', 'nor', 'can', 'governmental', 'action', 'suffice', 'People', 'can', 'be', 'motivated', 'urged', 'to', 'participate', 'in', 'better', 'alternatives', 'It', 'has', 'been', 'my', 'experience', 'people', 'who', 'are', 'at', 'cross', 'purposes', 'nature', 'are', 'cynical', 'about', 'mankind', 'ill', 'at', 'ease', 'themselves', 'Modern', 'man', 'must', 're', 'establish', 'an', 'unbroken', 'link', 'with', 'nature', 'with', 'life', 'He', 'must', 'again', 'learn', 'to', 'invoke', 'the', 'energy', 'growing', 'things', 'to', 'recognize', 'as', 'did', 'the', 'ancients', 'in', 'India', 'centuries', 'ago', 'that', 'one', 'can', 'take', 'from', 'the', 'Earth', 'the', 'atmosphere', 'only', 'so', 'much', 'as', 'one', 'puts', 'back', 'into', 'them', 'In', 'their', 'hymn', 'to', 'Earth', 'the', 'sages', 'the', 'Atharva', 'Veda', 'chanted', 'I', 'quote', 'What', 'thee', 'I', 'dig', 'out', 'let', 'that', 'quickly', 'grow', 'over', 'Let', 'me', 'not', 'hit', 'thy', 'vitals', 'thy', 'heart', 'So', 'can', 'man', 'himself', 'be', 'vital', 'good', 'heart', 'conscious', 'of', 'his', 'responsibility']\n"
     ]
    }
   ],
   "source": [
    "stop_words = ['the','of','and','to', 'a', 'is', 'not', 'that','be','our','with','are','which','for','The','or','we','We']\n",
    "for token in tokens:\n",
    "    if token in stop_words:\n",
    "        tokens.remove(token)\n",
    "print(tokens)"
   ]
  },
  {
   "cell_type": "markdown",
   "metadata": {},
   "source": [
    "We can also cut out the smaller and less frequent words.  Here I am removing all words shorter than three charachters that appear less than five times in the text. Try changing the 3 and 5 in the script to see how the results vary. "
   ]
  },
  {
   "cell_type": "code",
   "execution_count": 117,
   "metadata": {
    "collapsed": false,
    "scrolled": true
   },
   "outputs": [
    {
     "data": {
      "text/plain": [
       "['Conference',\n",
       " 'India',\n",
       " 'been',\n",
       " 'cannot',\n",
       " 'concern',\n",
       " 'countries',\n",
       " 'country',\n",
       " 'development',\n",
       " 'environmental',\n",
       " 'from',\n",
       " 'have',\n",
       " 'into',\n",
       " 'living',\n",
       " 'more',\n",
       " 'must',\n",
       " 'nations',\n",
       " 'nature',\n",
       " 'only',\n",
       " 'others',\n",
       " 'part',\n",
       " 'people',\n",
       " 'population',\n",
       " 'poverty',\n",
       " 'problems',\n",
       " 'should',\n",
       " 'some',\n",
       " 'their',\n",
       " 'this',\n",
       " 'those',\n",
       " 'were',\n",
       " 'will',\n",
       " 'world',\n",
       " 'would']"
      ]
     },
     "execution_count": 117,
     "metadata": {},
     "output_type": "execute_result"
    }
   ],
   "source": [
    "import nltk\n",
    "from nltk.probability import FreqDist\n",
    "\n",
    "fdist1 = FreqDist(tokens)\n",
    "sorted(w for w in set(fdist1) if len(w) > 3 and fdist1[w] > 5)"
   ]
  },
  {
   "cell_type": "markdown",
   "metadata": {},
   "source": [
    "Here I can create add word frequency to our list.  This shows the 10 most common words and their frequency. "
   ]
  },
  {
   "cell_type": "code",
   "execution_count": 118,
   "metadata": {
    "collapsed": false,
    "scrolled": true
   },
   "outputs": [
    {
     "data": {
      "text/plain": [
       "[('the', 89),\n",
       " ('in', 70),\n",
       " ('one', 23),\n",
       " ('a', 22),\n",
       " ('but', 22),\n",
       " ('on', 21),\n",
       " ('an', 19),\n",
       " ('by', 17),\n",
       " ('as', 17),\n",
       " ('can', 16)]"
      ]
     },
     "execution_count": 118,
     "metadata": {},
     "output_type": "execute_result"
    }
   ],
   "source": [
    "import nltk\n",
    "from nltk.probability import FreqDist\n",
    "\n",
    "fdist1 = FreqDist(tokens)\n",
    "fdist1.most_common(10)"
   ]
  },
  {
   "cell_type": "markdown",
   "metadata": {},
   "source": [
    "Here is a cool function for text sumarization [from here](https://nlpforhackers.io/textrank-text-summarization/#more-7991).  It builds an extractive summary by ranking the sentences and returning the five most important sentences in the text based on similarity. "
   ]
  },
  {
   "cell_type": "code",
   "execution_count": null,
   "metadata": {
    "collapsed": false,
    "scrolled": false
   },
   "outputs": [],
   "source": [
    "import numpy as np\n",
    "from nltk.corpus import brown, stopwords\n",
    "from nltk.cluster.util import cosine_distance\n",
    "from operator import itemgetter \n",
    "\n",
    "def pagerank(A, eps=0.0001, d=0.85):\n",
    "    P = np.ones(len(A)) / len(A)\n",
    "    while True:\n",
    "        new_P = np.ones(len(A)) * (1 - d) / len(A) + d * A.T.dot(P)\n",
    "        delta = abs((new_P - P).sum())\n",
    "        if delta <= eps:\n",
    "            return new_P\n",
    "        P = new_P\n",
    "        \n",
    "def sentence_similarity(sent1, sent2, stopwords=None):\n",
    "    if stopwords is None:\n",
    "        stopwords = []\n",
    " \n",
    "    sent1 = [w.lower() for w in sent1]\n",
    "    sent2 = [w.lower() for w in sent2]\n",
    " \n",
    "    all_words = list(set(sent1 + sent2))\n",
    " \n",
    "    vector1 = [0] * len(all_words)\n",
    "    vector2 = [0] * len(all_words)\n",
    " \n",
    "    # build the vector for the first sentence\n",
    "    for w in sent1:\n",
    "        if w in stopwords:\n",
    "            continue\n",
    "        vector1[all_words.index(w)] += 1\n",
    " \n",
    "    # build the vector for the second sentence\n",
    "    for w in sent2:\n",
    "        if w in stopwords:\n",
    "            continue\n",
    "        vector2[all_words.index(w)] += 1\n",
    " \n",
    "    return 1 - cosine_distance(vector1, vector2)\n",
    "\n",
    "def build_similarity_matrix(sentences, stopwords=None):\n",
    "    # Create an empty similarity matrix\n",
    "    S = np.zeros((len(sentences), len(sentences)))\n",
    " \n",
    " \n",
    "    for idx1 in range(len(sentences)):\n",
    "        for idx2 in range(len(sentences)):\n",
    "            if idx1 == idx2:\n",
    "                continue\n",
    " \n",
    "            S[idx1][idx2] = sentence_similarity(sentences[idx1], sentences[idx2], stop_words)\n",
    " \n",
    "    # normalize the matrix row-wise\n",
    "    for idx in range(len(S)):\n",
    "        S[idx] /= S[idx].sum()\n",
    " \n",
    "    return S\n",
    "\n",
    "def textrank(sentences, top_n=5, stopwords=None):\n",
    "    \"\"\"\n",
    "    sentences = a list of sentences [[w11, w12, ...], [w21, w22, ...], ...]\n",
    "    top_n = how may sentences the summary should contain\n",
    "    stopwords = a list of stopwords\n",
    "    \"\"\"\n",
    "    S = build_similarity_matrix(sentences, stop_words) \n",
    "    sentence_ranks = pagerank(S)\n",
    " \n",
    "    # Sort the sentence ranks\n",
    "    ranked_sentence_indexes = [item[0] for item in sorted(enumerate(sentence_ranks), key=lambda item: -item[1])]\n",
    "    SELECTED_SENTENCES = sorted(ranked_sentence_indexes[:top_n])\n",
    "    summary = itemgetter(*SELECTED_SENTENCES)(sentences)\n",
    "    return summary\n",
    " \n",
    "for idx, sentence in enumerate(textrank(sentences, stopwords=stopwords.words('english'))):\n",
    "    print(\"%s. %s\" % ((idx + 1), ' '.join(sentence)))\n"
   ]
  },
  {
   "cell_type": "markdown",
   "metadata": {},
   "source": [
    "Here is another text summary example.\n",
    "It will scrape all the text from a url and summarize it for you. Below is a link for the full text of Jack London's Call of the Wild. You can see the results below or try it with another text on the web, just change the url. (Keep in mind it may take a while if the text is large). "
   ]
  },
  {
   "cell_type": "code",
   "execution_count": 105,
   "metadata": {
    "collapsed": true
   },
   "outputs": [],
   "source": [
    "url = 'https://www.gutenberg.org/files/215/215-0.txt'\n",
    "url = url.strip('\\'\"')"
   ]
  },
  {
   "cell_type": "code",
   "execution_count": 107,
   "metadata": {
    "collapsed": false
   },
   "outputs": [
    {
     "name": "stdout",
     "output_type": "stream",
     "text": [
      "1. H e   p l u n g e d   i n t o   t h e   s w i m m i n g   t a n k   o r   w e n t   h u n t i n g   w i t h   t h e   J u d g e ’ s   s o n s ; \r",
      " \n",
      " h e   e s c o r t e d   M o l l i e   a n d   A l i c e ,   t h e   J u d g e ’ s   d a u g h t e r s ,   o n   l o n g   t w i l i g h t \r",
      " \n",
      " o r   e a r l y   m o r n i n g   r a m b l e s ;   o n   w i n t r y   n i g h t s   h e   l a y   a t   t h e   J u d g e ’ s   f e e t \r",
      " \n",
      " b e f o r e   t h e   r o a r i n g   l i b r a r y   f i r e ;   h e   c a r r i e d   t h e   J u d g e ’ s   g r a n d s o n s   o n   h i s \r",
      " \n",
      " b a c k ,   o r   r o l l e d   t h e m   i n   t h e   g r a s s ,   a n d   g u a r d e d   t h e i r   f o o t s t e p s   t h r o u g h \r",
      " \n",
      " w i l d   a d v e n t u r e s   d o w n   t o   t h e   f o u n t a i n   i n   t h e   s t a b l e   y a r d ,   a n d   e v e n \r",
      " \n",
      " b e y o n d ,   w h e r e   t h e   p a d d o c k s   w e r e ,   a n d   t h e   b e r r y   p a t c h e s .\n",
      "2. T h e y   m a d e   g o o d   t i m e   d o w n   t h e   c h a i n   o f   l a k e s   w h i c h   f i l l s   t h e \r",
      " \n",
      " c r a t e r s   o f   e x t i n c t   v o l c a n o e s ,   a n d   l a t e   t h a t   n i g h t   p u l l e d   i n t o   t h e   h u g e \r",
      " \n",
      " c a m p   a t   t h e   h e a d   o f   L a k e   B e n n e t t ,   w h e r e   t h o u s a n d s   o f   g o l d s e e k e r s   w e r e \r",
      " \n",
      " b u i l d i n g   b o a t s   a g a i n s t   t h e   b r e a k - u p   o f   t h e   i c e   i n   t h e   s p r i n g .\n",
      "3. F r a n c o i s   w a s   s u r p r i s e d ,   t o o ,   w h e n   t h e y   s h o t   o u t   i n   a   t a n g l e   f r o m   t h e \r",
      " \n",
      " d i s r u p t e d   n e s t   a n d   h e   d i v i n e d   t h e   c a u s e   o f   t h e   t r o u b l e .\n",
      "4. H e   k e p t \r",
      " \n",
      " F r a n c o i s   b u s y ,   f o r   t h e   d o g - d r i v e r   w a s   i n   c o n s t a n t   a p p r e h e n s i o n   o f   t h e \r",
      " \n",
      " l i f e - a n d - d e a t h   s t r u g g l e   b e t w e e n   t h e   t w o   w h i c h   h e   k n e w   m u s t   t a k e   p l a c e \r",
      " \n",
      " s o o n e r   o r   l a t e r ;   a n d   o n   m o r e   t h a n   o n e   n i g h t   t h e   s o u n d s   o f   q u a r r e l l i n g \r",
      " \n",
      " a n d   s t r i f e   a m o n g   t h e   o t h e r   d o g s   t u r n e d   h i m   o u t   o f   h i s   s l e e p i n g   r o b e , \r",
      " \n",
      " f e a r f u l   t h a t   B u c k   a n d   S p i t z   w e r e   a t   i t .\n",
      "5. B u t   s o \r",
      " \n",
      " m a n y   w e r e   t h e   m e n   w h o   h a d   r u s h e d   i n t o   t h e   K l o n d i k e ,   a n d   s o   m a n y   w e r e   t h e \r",
      " \n",
      " s w e e t h e a r t s ,   w i v e s ,   a n d   k i n   t h a t   h a d   n o t   r u s h e d   i n ,   t h a t   t h e   c o n g e s t e d \r",
      " \n",
      " m a i l   w a s   t a k i n g   o n   A l p i n e   p r o p o r t i o n s ;   a l s o ,   t h e r e   w e r e   o f f i c i a l   o r d e r s .\n"
     ]
    }
   ],
   "source": [
    "from nltk.tokenize import sent_tokenize\n",
    "html = urllib2.urlopen(url).read()\n",
    "soup = BeautifulSoup(html)\n",
    "[s.extract() for s in soup(['style', 'script', '[document]', 'head', 'title'])]\n",
    "visible_text = soup.getText()\n",
    "sentences = sent_tokenize(visible_text)\n",
    "\n",
    "for idx, sentence in enumerate(textrank(sentences, stopwords=stopwords.words('english'))):\n",
    "    print(\"%s. %s\" % ((idx + 1), ' '.join(sentence)))"
   ]
  },
  {
   "cell_type": "markdown",
   "metadata": {
    "collapsed": false
   },
   "source": [
    "I also experimented with using word embeddings (vector representations of words or sentences) and word2vec model in NLTK.  I got stuck training the model on new vocabulary, but I'll come back to this.  It's something I'd love to know more about.'"
   ]
  },
  {
   "cell_type": "markdown",
   "metadata": {},
   "source": [
    "I hope that this unstructured tour and pastiche of code was helpful.  One of the things that I am still struggling with is how to connect the capabilities of natural language processing (there are so many), to research problems in the Humanities. I would love to find examples projects that produced knowledge of clear value to a scholarly community that was only been possible with digital humanities methods. I know they exist, but it would be helpful to have them ready whenever skeptics come to call.  "
   ]
  },
  {
   "cell_type": "code",
   "execution_count": null,
   "metadata": {
    "collapsed": true
   },
   "outputs": [],
   "source": []
  }
 ],
 "metadata": {
  "kernelspec": {
   "display_name": "Python [default]",
   "language": "python",
   "name": "python2"
  },
  "language_info": {
   "codemirror_mode": {
    "name": "ipython",
    "version": 2
   },
   "file_extension": ".py",
   "mimetype": "text/x-python",
   "name": "python",
   "nbconvert_exporter": "python",
   "pygments_lexer": "ipython2",
   "version": "2.7.13"
  }
 },
 "nbformat": 4,
 "nbformat_minor": 2
}
